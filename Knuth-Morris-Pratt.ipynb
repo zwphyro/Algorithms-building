{
 "cells": [
  {
   "cell_type": "markdown",
   "id": "09caebfd",
   "metadata": {},
   "source": [
    "# Основные определения\n",
    "\n",
    "***Определение.*** Префикс-функция.<br>\n",
    "$\\Pi(s)$ $-$ максимальный суффикс строки $s$, не равный самой строке, являющийся одновременно ее префиксом.\n",
    "\n",
    "Примеры:  \n",
    "$\\Pi(\\text{'aba'}) = \\text{'a'}$  \n",
    "$\\Pi(\\text{'abab'}) = \\text{'ab'}$  \n",
    "$\\Pi(\\text{'ababa'}) = \\text{'aba'}$  \n",
    "\n",
    "\n",
    "\n",
    "\n",
    "\n"
   ]
  },
  {
   "cell_type": "markdown",
   "id": "6eb1736c",
   "metadata": {},
   "source": [
    "# Задача точного поиска образца в строке\n",
    "\n",
    "***Задача.*** Дан паттерн $P$ и текст $T$. Необходимо найти все полные вхождения паттерна $P$ в текст $T$."
   ]
  },
  {
   "cell_type": "code",
   "execution_count": 1,
   "id": "8586f754",
   "metadata": {},
   "outputs": [
    {
     "data": {
      "text/plain": [
       "[0, 2]"
      ]
     },
     "execution_count": 1,
     "metadata": {},
     "output_type": "execute_result"
    }
   ],
   "source": [
    "def simple_substring_search(pattern, text):\n",
    "    result = []\n",
    "    for i in range(len(text) - len(pattern) + 1):\n",
    "        for j in range(len(pattern)):\n",
    "            if pattern[j] != text[i + j]:\n",
    "                break\n",
    "        else:\n",
    "            result.append(i)\n",
    "    return result\n",
    "\n",
    "simple_substring_search('aba', 'ababa')"
   ]
  },
  {
   "cell_type": "markdown",
   "id": "8b162471",
   "metadata": {},
   "source": [
    "# Наивный алгоритм и его сложность\n",
    "\n",
    "Начиная с каждого символа текста $T$ производить сравнение символов теста и паттерна. Если все символы равны $-$ паттерн найден.\n",
    "\n",
    "Сложность данного алгоритма $O(|P||T|)$"
   ]
  },
  {
   "cell_type": "markdown",
   "id": "15393069",
   "metadata": {},
   "source": [
    "# Алгоритм КМП\n",
    "\n",
    "Произведем последовательное вычисление длин префикс-функции для всех строк меньшей длины.\n",
    "\n",
    "|$S$    |a|b|a|b|a|\n",
    "|-------|-|-|-|-|-|\n",
    "|$|\\Pi|$|0|0|1|2|3|\n",
    "\n",
    "Произведем построение такого массива значений префикс функции для строки, являющейся объединением паттерна и текста, разделенных символом, не входящим не в одну из этих строк. Тогда символы, для которых значение длины префикс функции будет совпадать с длиной паттерна будут являться последними символами вхождения паттерна в текст.\n",
    "\n",
    "|$S$    |a|b|a|\\$|a|b|a|b|a|\n",
    "|-------|-|-|-|--|-|-|-|-|-|\n",
    "|$|\\Pi|$|0|0|1|0 |1|2|3|2|3|\n",
    "\n",
    "При наивном вычислении длины префикс-функции необходимо потратить $O(|P|^2)$ опреаций."
   ]
  },
  {
   "cell_type": "code",
   "execution_count": 2,
   "id": "5449a1ff",
   "metadata": {},
   "outputs": [
    {
     "data": {
      "text/plain": [
       "[0, 2]"
      ]
     },
     "execution_count": 2,
     "metadata": {},
     "output_type": "execute_result"
    }
   ],
   "source": [
    "def simple_prefix_length(text):\n",
    "    result = 0\n",
    "    for i in range(1, len(text) - 1):\n",
    "        for j in range(i):\n",
    "            if text[j] != text[-i + j]:\n",
    "                break\n",
    "        else:\n",
    "            result = i\n",
    "    return result\n",
    "\n",
    "def simple_kmp(pattern, text):\n",
    "    result = []\n",
    "    search_string = pattern + '$' + text\n",
    "    for i in range(1, len(search_string) + 1):\n",
    "        if simple_prefix_length(search_string[:i]) == len(pattern):\n",
    "            result.append(i - 2*len(pattern) - 1)\n",
    "            \n",
    "    return result\n",
    "\n",
    "simple_kmp('aba', 'ababa')"
   ]
  },
  {
   "cell_type": "markdown",
   "id": "712c248b",
   "metadata": {},
   "source": [
    "# Построение префикс-функции за линейное время\n",
    "\n",
    "Будем последовательно искать значения префикс функции. На каждом шаге будем расматривать предыдущее значение длины префикс-функции. Сначала произведем проверку, можно ли увеличить предыдущий префикс-суффикс, добавив текущий символ. \n",
    "\n",
    "***Утверждение.*** Добавление символа в строку увеличивает длину ее префикс-функции, если добавляемый символ совпадает с символом, расположенным на индексе строки, равном текущей длине префикс-функции.\n",
    "\n",
    "Если символ в тексте по индексу, равному предыдущему значению длины префикс-функции, не совпадает с текущим символом текста, то происходит нахождение меньшего префикс-суффикса. \n",
    "\n",
    "***Свойство.*** Все возможные суффикс-префиксы можно найти рекурсивным поиском максимальных суффикс-префиксов в текущем максимальныом суффикс-префиксе.  \n",
    "$\\Pi(\\text{'ababa'}) = \\text{'aba'}$  \n",
    "$\\Pi(\\text{'aba'}) = \\text{'a'}$  \n",
    "$\\Pi(\\text{'a'}) = \\text{''}$  \n",
    "\n",
    "Исходя из описанного свойства можно понять, что длина меньшего префикс-суффикса уже вычислена и находится на индексе, равном текущему значению префикс-функции - 1. Данные действия продолжаются, пока не найдется префикс-суффикс, который можно расширить текущим символом, или пока длина префикс-функции не будет равно 0.\n"
   ]
  },
  {
   "cell_type": "code",
   "execution_count": 10,
   "id": "39a8bd19",
   "metadata": {},
   "outputs": [
    {
     "data": {
      "text/plain": [
       "[0, 2]"
      ]
     },
     "execution_count": 10,
     "metadata": {},
     "output_type": "execute_result"
    }
   ],
   "source": [
    "def kmp(pattern, text):\n",
    "    result = []\n",
    "    search_string = pattern + '$' + text\n",
    "    prefix_length = [None] * len(search_string)\n",
    "    current_prefix_length = 0\n",
    "    prefix_length[0] = current_prefix_length\n",
    "    for i in range(1, len(search_string)):\n",
    "        while current_prefix_length and search_string[current_prefix_length] != search_string[i]:\n",
    "            current_prefix_length = prefix_length[current_prefix_length - 1]\n",
    "        \n",
    "        if search_string[current_prefix_length] == search_string[i]:\n",
    "            current_prefix_length += 1\n",
    "        prefix_length[i] = current_prefix_length\n",
    "        \n",
    "        if current_prefix_length == len(pattern):\n",
    "            result.append(i - 2*len(pattern))\n",
    "    \n",
    "    return result\n",
    "\n",
    "kmp('aba', 'ababa')"
   ]
  },
  {
   "cell_type": "markdown",
   "id": "c1ba272b",
   "metadata": {},
   "source": [
    "# Оценка сложности\n",
    "\n",
    "***Утверждение.*** За один ход алгоритма величина длины префикс-функции возрастает не более, чем на 1.\n",
    "\n",
    "Рассмотрим график длины префикс-функции от количества рассмотренных символов.\n",
    "\n",
    "![](./images/kmp.png)\n",
    "\n",
    "За один проход по строке длина префикс-функции не может превышать длины строки, следовательно суммарно за весь проход по строке длина префикс-функции за один ход также не может быть уменьшена больше, чем на длину строки. Следовательно данный алгоритм имеет линейную сложность $O(|P| + |T|)$.\n"
   ]
  }
 ],
 "metadata": {
  "kernelspec": {
   "display_name": "Python 3 (ipykernel)",
   "language": "python",
   "name": "python3"
  },
  "language_info": {
   "codemirror_mode": {
    "name": "ipython",
    "version": 3
   },
   "file_extension": ".py",
   "mimetype": "text/x-python",
   "name": "python",
   "nbconvert_exporter": "python",
   "pygments_lexer": "ipython3",
   "version": "3.11.3"
  }
 },
 "nbformat": 4,
 "nbformat_minor": 5
}
