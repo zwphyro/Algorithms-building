{
 "cells": [
  {
   "cell_type": "code",
   "execution_count": 1,
   "id": "1c6bc5b6",
   "metadata": {},
   "outputs": [
    {
     "data": {
      "text/plain": [
       "6"
      ]
     },
     "execution_count": 1,
     "metadata": {},
     "output_type": "execute_result"
    }
   ],
   "source": [
    "def editorial_distance(string_1, string_2):\n",
    "    dynamic_array = [[None]*(len(string_1) + 1) for _ in range(len(string_2) + 1)]\n",
    "    for i in range(len(string_1) + 1):\n",
    "        dynamic_array[0][i] = i\n",
    "\n",
    "    for i in range(len(string_2) + 1):\n",
    "        dynamic_array[i][0] = i\n",
    "\n",
    "    for i in range(1, len(string_1) + 1):\n",
    "        for j in range(1, len(string_2) + 1):\n",
    "            dynamic_array[j][i] = min(dynamic_array[j - 1][i] + 1, \n",
    "                                      dynamic_array[j][i - 1] + 1, \n",
    "                                      dynamic_array[j - 1][i - 1] + int(string_1[i - 1] != string_2[j - 1]))\n",
    "\n",
    "    return dynamic_array[-1][-1]\n",
    "\n",
    "editorial_distance('exponential', 'polinomial')"
   ]
  },
  {
   "cell_type": "markdown",
   "id": "6fcfc766",
   "metadata": {},
   "source": [
    "# Рассторяние Левенштейна\n",
    "\n",
    "Есть 3 операции:\n",
    "- Удалить символ\n",
    "- Добавить символ\n",
    "- Заменить символ\n",
    "\n",
    "$D(S_1, S_2) \\geq ||S_1| - |S_2||$ $-$ минимум операций удаления/добавление символа, для того чтобы сделать строки равной длины.\n",
    "\n",
    "$D(S_1, S_2) \\leq \\max{(|S_1|, |S_2|)}$ $-$ худший случай, заменить все символы одной строки на символы другой строки, добавить/удалить недостающий/избыточные символы.\n",
    "\n",
    "$D(S_1, S_2) = 0 \\iff S_1 = S_2$\n",
    "\n",
    "$D(\\emptyset, \\emptyset) = 0$\n",
    "\n",
    "$D(\\emptyset, S) = D(S, \\emptyset) = |S|$\n",
    "\n",
    "Выразим редакционное расстояние строк $S_k$ и $P_l$ через редакционное расстояние строк меньшего размера.\n",
    "\n",
    "$D(S_k, P_l) = \\min{\n",
    "\\begin{cases}\n",
    "   D(S_{k-1}, P_l) + 1 &\\text{удалить последний символ из строки $S_k$}\\\\\n",
    "   D(S_k, P_{l-1}) + 1 &\\text{добавить к строке $S_k$ последний символ строки $P_l$}\\\\\n",
    "   D(S_{k-1}, P_{l-1}) + \\text{diff}(S[k], P[l]) &\\text{заменить последний символ строки $S_k$ на последний символ строки $P_l$}\\\\\n",
    "\\end{cases}\n",
    "}$\n",
    "\n",
    "Алгоритм нахождения редакционного расстояния основан на методе динамического программирования.  \n",
    "Для вычисления редакционного расстояния двух строк происходит построение таблицы редакционных расстояний для всех строк меньшей длины, начальные значения исходят из утверждений о редакционном расстоянии, описанных выше, каждая ячейка заполняется с использованием рекурсивной формулы.\n",
    "\n",
    "![](./images/editiorial_1.png)\n",
    "\n",
    "Итоговый ответ находится в нижней правой ячейке таблицы.\n",
    "\n",
    "![](./images/editiorial_2.png)\n",
    "\n",
    "Для восстановления пути можно запоминать, из каких клеток были сделаны переходы.\n",
    "\n",
    "![](./images/editiorial_3.png)\n",
    "\n",
    "Используя данную табилцу возможно построить граф переходов, поиск редакционного расстояния в данном графе $-$ \n",
    "это поиск пути от корня до вершины, находящейся в правом нижнем углу таблицы.\n",
    "\n",
    "![](./images/editiorial_4.png)\n",
    "\n",
    "Вес вертикальных и горизонтальных ребер всегда равен единице, вес диагональных ребер зависит от того, равны ли символы, на пересечении которых стоит итоговая вершина."
   ]
  }
 ],
 "metadata": {
  "kernelspec": {
   "display_name": "Python 3 (ipykernel)",
   "language": "python",
   "name": "python3"
  },
  "language_info": {
   "codemirror_mode": {
    "name": "ipython",
    "version": 3
   },
   "file_extension": ".py",
   "mimetype": "text/x-python",
   "name": "python",
   "nbconvert_exporter": "python",
   "pygments_lexer": "ipython3",
   "version": "3.11.3"
  }
 },
 "nbformat": 4,
 "nbformat_minor": 5
}
